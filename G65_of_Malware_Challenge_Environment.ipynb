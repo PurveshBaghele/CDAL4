{
  "nbformat": 4,
  "nbformat_minor": 0,
  "metadata": {
    "colab": {
      "name": "G65 of Malware Challenge Environment",
      "provenance": [],
      "include_colab_link": true
    },
    "kernelspec": {
      "name": "python3",
      "display_name": "Python 3"
    },
    "accelerator": "GPU"
  },
  "cells": [
    {
      "cell_type": "markdown",
      "metadata": {
        "id": "view-in-github",
        "colab_type": "text"
      },
      "source": [
        "<a href=\"https://colab.research.google.com/github/PurveshBaghele/CDAL4/blob/master/G65_of_Malware_Challenge_Environment.ipynb\" target=\"_parent\"><img src=\"https://colab.research.google.com/assets/colab-badge.svg\" alt=\"Open In Colab\"/></a>"
      ]
    },
    {
      "cell_type": "code",
      "metadata": {
        "id": "P7RNJNxabTR5",
        "colab_type": "code",
        "colab": {
          "base_uri": "https://localhost:8080/",
          "height": 120
        },
        "outputId": "1f0c9769-99c9-4cc7-d40e-1c2dde4a2c75"
      },
      "source": [
        "from google.colab import drive\n",
        "drive.mount('/content/drive')"
      ],
      "execution_count": null,
      "outputs": [
        {
          "output_type": "stream",
          "text": [
            "Go to this URL in a browser: https://accounts.google.com/o/oauth2/auth?client_id=947318989803-6bn6qk8qdgf4n4g3pfee6491hc0brc4i.apps.googleusercontent.com&redirect_uri=urn%3aietf%3awg%3aoauth%3a2.0%3aoob&response_type=code&scope=email%20https%3a%2f%2fwww.googleapis.com%2fauth%2fdocs.test%20https%3a%2f%2fwww.googleapis.com%2fauth%2fdrive%20https%3a%2f%2fwww.googleapis.com%2fauth%2fdrive.photos.readonly%20https%3a%2f%2fwww.googleapis.com%2fauth%2fpeopleapi.readonly\n",
            "\n",
            "Enter your authorization code:\n",
            "··········\n",
            "Mounted at /content/drive\n"
          ],
          "name": "stdout"
        }
      ]
    },
    {
      "cell_type": "code",
      "metadata": {
        "id": "4OAgfaKAgRD3",
        "colab_type": "code",
        "colab": {
          "base_uri": "https://localhost:8080/",
          "height": 33
        },
        "outputId": "9f484f12-09b4-4405-8255-b03ef5cd7310"
      },
      "source": [
        "%cd /content/drive/My Drive/Colab Notebooks/"
      ],
      "execution_count": 2,
      "outputs": [
        {
          "output_type": "stream",
          "text": [
            "/content/drive/My Drive/Colab Notebooks\n"
          ],
          "name": "stdout"
        }
      ]
    },
    {
      "cell_type": "markdown",
      "metadata": {
        "id": "cTYQN4Mh_Ymw",
        "colab_type": "text"
      },
      "source": [
        "Unpacking the code"
      ]
    },
    {
      "cell_type": "code",
      "metadata": {
        "id": "R6W_Ti-68OL1",
        "colab_type": "code",
        "colab": {
          "base_uri": "https://localhost:8080/",
          "height": 53
        },
        "outputId": "3e774c6f-472d-4b25-c22d-087bdb8784ed"
      },
      "source": [
        "!git clone https://github.com/ALFA-group/malware_challenge.git"
      ],
      "execution_count": null,
      "outputs": [
        {
          "output_type": "stream",
          "text": [
            "fatal: destination path 'malware_challenge' already exists and is not an empty directory.\n"
          ],
          "name": "stdout"
        }
      ]
    },
    {
      "cell_type": "markdown",
      "metadata": {
        "id": "qkQJPz0A_byU",
        "colab_type": "text"
      },
      "source": [
        "Setting up the conda environment"
      ]
    },
    {
      "cell_type": "code",
      "metadata": {
        "id": "r4z8vMg99DhL",
        "colab_type": "code",
        "colab": {
          "base_uri": "https://localhost:8080/",
          "height": 1000
        },
        "outputId": "36b82819-06f2-4c4a-83c5-9cd25492490c"
      },
      "source": [
        "!wget -c https://repo.continuum.io/archive/Anaconda2-2019.03-Linux-x86_64.sh\n",
        "!chmod +x Anaconda2-2019.03-Linux-x86_64.sh\n",
        "!bash ./Anaconda2-2019.03-Linux-x86_64.sh -b -f -p /usr/local"
      ],
      "execution_count": 3,
      "outputs": [
        {
          "output_type": "stream",
          "text": [
            "--2020-07-04 13:46:45--  https://repo.continuum.io/archive/Anaconda2-2019.03-Linux-x86_64.sh\n",
            "Resolving repo.continuum.io (repo.continuum.io)... 104.18.201.79, 104.18.200.79, 2606:4700::6812:c94f, ...\n",
            "Connecting to repo.continuum.io (repo.continuum.io)|104.18.201.79|:443... connected.\n",
            "HTTP request sent, awaiting response... 301 Moved Permanently\n",
            "Location: https://repo.anaconda.com/archive/Anaconda2-2019.03-Linux-x86_64.sh [following]\n",
            "--2020-07-04 13:46:45--  https://repo.anaconda.com/archive/Anaconda2-2019.03-Linux-x86_64.sh\n",
            "Resolving repo.anaconda.com (repo.anaconda.com)... 104.16.131.3, 104.16.130.3, 2606:4700::6810:8303, ...\n",
            "Connecting to repo.anaconda.com (repo.anaconda.com)|104.16.131.3|:443... connected.\n",
            "HTTP request sent, awaiting response... 416 Requested Range Not Satisfiable\n",
            "\n",
            "    The file is already fully retrieved; nothing to do.\n",
            "\n",
            "PREFIX=/usr/local\n",
            "reinstalling: python-2.7.16-h9bab390_0 ...\n",
            "using -f (force) option\n",
            "Python 2.7.16 :: Anaconda, Inc.\n",
            "reinstalling: conda-env-2.6.0-1 ...\n",
            "using -f (force) option\n",
            "reinstalling: blas-1.0-mkl ...\n",
            "using -f (force) option\n",
            "reinstalling: ca-certificates-2019.1.23-0 ...\n",
            "using -f (force) option\n",
            "reinstalling: intel-openmp-2019.3-199 ...\n",
            "using -f (force) option\n",
            "reinstalling: libgcc-ng-8.2.0-hdf63c60_1 ...\n",
            "using -f (force) option\n",
            "reinstalling: libgfortran-ng-7.3.0-hdf63c60_0 ...\n",
            "using -f (force) option\n",
            "reinstalling: libstdcxx-ng-8.2.0-hdf63c60_1 ...\n",
            "using -f (force) option\n",
            "reinstalling: bzip2-1.0.6-h14c3975_5 ...\n",
            "using -f (force) option\n",
            "reinstalling: expat-2.2.6-he6710b0_0 ...\n",
            "using -f (force) option\n",
            "reinstalling: fribidi-1.0.5-h7b6447c_0 ...\n",
            "using -f (force) option\n",
            "reinstalling: gmp-6.1.2-h6c8ec71_1 ...\n",
            "using -f (force) option\n",
            "reinstalling: graphite2-1.3.13-h23475e2_0 ...\n",
            "using -f (force) option\n",
            "reinstalling: icu-58.2-h9c2bf20_1 ...\n",
            "using -f (force) option\n",
            "reinstalling: jbig-2.1-hdba287a_0 ...\n",
            "using -f (force) option\n",
            "reinstalling: jpeg-9b-h024ee3a_2 ...\n",
            "using -f (force) option\n",
            "reinstalling: libffi-3.2.1-hd88cf55_4 ...\n",
            "using -f (force) option\n",
            "reinstalling: liblief-0.9.0-h7725739_2 ...\n",
            "using -f (force) option\n",
            "reinstalling: libsodium-1.0.16-h1bed415_0 ...\n",
            "using -f (force) option\n",
            "reinstalling: libtool-2.4.6-h7b6447c_5 ...\n",
            "using -f (force) option\n",
            "reinstalling: libuuid-1.0.3-h1bed415_2 ...\n",
            "using -f (force) option\n",
            "reinstalling: libxcb-1.13-h1bed415_1 ...\n",
            "using -f (force) option\n",
            "reinstalling: lz4-c-1.8.1.2-h14c3975_0 ...\n",
            "using -f (force) option\n",
            "reinstalling: lzo-2.10-h49e0be7_2 ...\n",
            "using -f (force) option\n",
            "reinstalling: mkl-2019.3-199 ...\n",
            "using -f (force) option\n",
            "reinstalling: ncurses-6.1-he6710b0_1 ...\n",
            "using -f (force) option\n",
            "reinstalling: openssl-1.1.1b-h7b6447c_1 ...\n",
            "using -f (force) option\n",
            "reinstalling: patchelf-0.9-he6710b0_3 ...\n",
            "using -f (force) option\n",
            "reinstalling: pcre-8.43-he6710b0_0 ...\n",
            "using -f (force) option\n",
            "reinstalling: pixman-0.38.0-h7b6447c_0 ...\n",
            "using -f (force) option\n",
            "reinstalling: snappy-1.1.7-hbae5bb6_3 ...\n",
            "using -f (force) option\n",
            "reinstalling: xz-5.2.4-h14c3975_4 ...\n",
            "using -f (force) option\n",
            "reinstalling: yaml-0.1.7-had09818_2 ...\n",
            "using -f (force) option\n",
            "reinstalling: zlib-1.2.11-h7b6447c_3 ...\n",
            "using -f (force) option\n",
            "reinstalling: blosc-1.15.0-hd408876_0 ...\n",
            "using -f (force) option\n",
            "reinstalling: glib-2.56.2-hd408876_0 ...\n",
            "using -f (force) option\n",
            "reinstalling: hdf5-1.10.4-hb1b8bf9_0 ...\n",
            "using -f (force) option\n",
            "reinstalling: libedit-3.1.20181209-hc058e9b_0 ...\n",
            "using -f (force) option\n",
            "reinstalling: libpng-1.6.36-hbc83047_0 ...\n",
            "using -f (force) option\n",
            "reinstalling: libssh2-1.8.0-h1ba5d50_4 ...\n",
            "using -f (force) option\n",
            "reinstalling: libxml2-2.9.9-he19cac6_0 ...\n",
            "using -f (force) option\n",
            "reinstalling: mpfr-4.0.1-hdf1c602_3 ...\n",
            "using -f (force) option\n",
            "reinstalling: pandoc-2.2.3.2-0 ...\n",
            "using -f (force) option\n",
            "reinstalling: readline-7.0-h7b6447c_5 ...\n",
            "using -f (force) option\n",
            "reinstalling: tk-8.6.8-hbc83047_0 ...\n",
            "using -f (force) option\n",
            "reinstalling: zeromq-4.3.1-he6710b0_3 ...\n",
            "using -f (force) option\n",
            "reinstalling: zstd-1.3.7-h0b5b093_0 ...\n",
            "using -f (force) option\n",
            "reinstalling: dbus-1.13.6-h746ee38_0 ...\n",
            "using -f (force) option\n",
            "reinstalling: freetype-2.9.1-h8a8886c_1 ...\n",
            "using -f (force) option\n",
            "reinstalling: gstreamer-1.14.0-hb453b48_1 ...\n",
            "using -f (force) option\n",
            "reinstalling: krb5-1.16.1-h173b8e3_7 ...\n",
            "using -f (force) option\n",
            "reinstalling: libarchive-3.3.3-h5d8350f_5 ...\n",
            "using -f (force) option\n",
            "reinstalling: libtiff-4.0.10-h2733197_2 ...\n",
            "using -f (force) option\n",
            "reinstalling: libxslt-1.1.33-h7d1a2b0_0 ...\n",
            "using -f (force) option\n",
            "reinstalling: mpc-1.1.0-h10f8cd9_1 ...\n",
            "using -f (force) option\n",
            "reinstalling: sqlite-3.27.2-h7b6447c_0 ...\n",
            "using -f (force) option\n",
            "reinstalling: unixodbc-2.3.7-h14c3975_0 ...\n",
            "using -f (force) option\n",
            "reinstalling: fontconfig-2.13.0-h9420a91_0 ...\n",
            "using -f (force) option\n",
            "reinstalling: gst-plugins-base-1.14.0-hbbd80ab_1 ...\n",
            "using -f (force) option\n",
            "reinstalling: libcurl-7.64.0-h20c2e04_2 ...\n",
            "using -f (force) option\n",
            "reinstalling: alabaster-0.7.12-py27_0 ...\n",
            "using -f (force) option\n",
            "reinstalling: asn1crypto-0.24.0-py27_0 ...\n",
            "using -f (force) option\n",
            "reinstalling: atomicwrites-1.3.0-py27_1 ...\n",
            "using -f (force) option\n",
            "reinstalling: attrs-19.1.0-py27_1 ...\n",
            "using -f (force) option\n",
            "reinstalling: backports-1.0-py27_1 ...\n",
            "using -f (force) option\n",
            "reinstalling: backports_abc-0.5-py27h7b3c97b_0 ...\n",
            "using -f (force) option\n",
            "reinstalling: bitarray-0.8.3-py27h14c3975_0 ...\n",
            "using -f (force) option\n",
            "reinstalling: boto-2.49.0-py27_0 ...\n",
            "using -f (force) option\n",
            "reinstalling: cairo-1.14.12-h8948797_3 ...\n",
            "using -f (force) option\n",
            "reinstalling: cdecimal-2.3-py27h14c3975_3 ...\n",
            "using -f (force) option\n",
            "reinstalling: certifi-2019.3.9-py27_0 ...\n",
            "using -f (force) option\n",
            "reinstalling: chardet-3.0.4-py27_1 ...\n",
            "using -f (force) option\n",
            "reinstalling: click-7.0-py27_0 ...\n",
            "using -f (force) option\n",
            "reinstalling: cloudpickle-0.8.0-py27_0 ...\n",
            "using -f (force) option\n",
            "reinstalling: colorama-0.4.1-py27_0 ...\n",
            "using -f (force) option\n",
            "reinstalling: contextlib2-0.5.5-py27hbf4c468_0 ...\n",
            "using -f (force) option\n",
            "reinstalling: curl-7.64.0-hbc83047_2 ...\n",
            "using -f (force) option\n",
            "reinstalling: dask-core-1.1.4-py27_1 ...\n",
            "using -f (force) option\n",
            "reinstalling: decorator-4.4.0-py27_1 ...\n",
            "using -f (force) option\n",
            "reinstalling: defusedxml-0.5.0-py27_1 ...\n",
            "using -f (force) option\n",
            "reinstalling: docutils-0.14-py27hae222c1_0 ...\n",
            "using -f (force) option\n",
            "reinstalling: enum34-1.1.6-py27_1 ...\n",
            "using -f (force) option\n",
            "reinstalling: et_xmlfile-1.0.1-py27h75840f5_0 ...\n",
            "using -f (force) option\n",
            "reinstalling: fastcache-1.0.2-py27h14c3975_2 ...\n",
            "using -f (force) option\n",
            "reinstalling: filelock-3.0.10-py27_0 ...\n",
            "using -f (force) option\n",
            "reinstalling: funcsigs-1.0.2-py27h83f16ab_0 ...\n",
            "using -f (force) option\n",
            "reinstalling: functools32-3.2.3.2-py27_1 ...\n",
            "using -f (force) option\n",
            "reinstalling: future-0.17.1-py27_0 ...\n",
            "using -f (force) option\n",
            "reinstalling: futures-3.2.0-py27_0 ...\n",
            "using -f (force) option\n",
            "reinstalling: glob2-0.6-py27_1 ...\n",
            "using -f (force) option\n",
            "reinstalling: gmpy2-2.0.8-py27h10f8cd9_2 ...\n",
            "using -f (force) option\n",
            "reinstalling: greenlet-0.4.15-py27h7b6447c_0 ...\n",
            "using -f (force) option\n",
            "reinstalling: grin-1.2.1-py27_4 ...\n",
            "using -f (force) option\n",
            "reinstalling: heapdict-1.0.0-py27_2 ...\n",
            "using -f (force) option\n",
            "reinstalling: idna-2.8-py27_0 ...\n",
            "using -f (force) option\n",
            "reinstalling: imagesize-1.1.0-py27_0 ...\n",
            "using -f (force) option\n",
            "reinstalling: ipaddress-1.0.22-py27_0 ...\n",
            "using -f (force) option\n",
            "reinstalling: ipython_genutils-0.2.0-py27h89fb69b_0 ...\n",
            "using -f (force) option\n",
            "reinstalling: itsdangerous-1.1.0-py27_0 ...\n",
            "using -f (force) option\n",
            "reinstalling: jdcal-1.4-py27_0 ...\n",
            "using -f (force) option\n",
            "reinstalling: kiwisolver-1.0.1-py27hf484d3e_0 ...\n",
            "using -f (force) option\n",
            "reinstalling: lazy-object-proxy-1.3.1-py27h14c3975_2 ...\n",
            "using -f (force) option\n",
            "reinstalling: linecache2-1.0.0-py27_0 ...\n",
            "using -f (force) option\n",
            "reinstalling: locket-0.2.0-py27h73929a2_1 ...\n",
            "using -f (force) option\n",
            "reinstalling: lxml-4.3.2-py27hefd8a0e_0 ...\n",
            "using -f (force) option\n",
            "reinstalling: markupsafe-1.1.1-py27h7b6447c_0 ...\n",
            "using -f (force) option\n",
            "reinstalling: mccabe-0.6.1-py27_1 ...\n",
            "using -f (force) option\n",
            "reinstalling: mistune-0.8.4-py27h7b6447c_0 ...\n",
            "using -f (force) option\n",
            "reinstalling: mkl-service-1.1.2-py27he904b0f_5 ...\n",
            "using -f (force) option\n",
            "reinstalling: mpmath-1.1.0-py27_0 ...\n",
            "using -f (force) option\n",
            "reinstalling: msgpack-python-0.6.1-py27hfd86e86_1 ...\n",
            "using -f (force) option\n",
            "reinstalling: numpy-base-1.16.2-py27hde5b4d6_0 ...\n",
            "using -f (force) option\n",
            "reinstalling: olefile-0.46-py27_0 ...\n",
            "using -f (force) option\n",
            "reinstalling: pandocfilters-1.4.2-py27_1 ...\n",
            "using -f (force) option\n",
            "reinstalling: parso-0.3.4-py27_0 ...\n",
            "using -f (force) option\n",
            "reinstalling: pep8-1.7.1-py27_0 ...\n",
            "using -f (force) option\n",
            "reinstalling: pkginfo-1.5.0.1-py27_0 ...\n",
            "using -f (force) option\n",
            "reinstalling: pluggy-0.9.0-py27_0 ...\n",
            "using -f (force) option\n",
            "reinstalling: ply-3.11-py27_0 ...\n",
            "using -f (force) option\n",
            "reinstalling: prometheus_client-0.6.0-py27_0 ...\n",
            "using -f (force) option\n",
            "reinstalling: psutil-5.6.1-py27h7b6447c_0 ...\n",
            "using -f (force) option\n",
            "reinstalling: ptyprocess-0.6.0-py27_0 ...\n",
            "using -f (force) option\n",
            "reinstalling: py-1.8.0-py27_0 ...\n",
            "using -f (force) option\n",
            "reinstalling: py-lief-0.9.0-py27h7725739_2 ...\n",
            "using -f (force) option\n",
            "reinstalling: pycodestyle-2.5.0-py27_0 ...\n",
            "using -f (force) option\n",
            "reinstalling: pycosat-0.6.3-py27h14c3975_0 ...\n",
            "using -f (force) option\n",
            "reinstalling: pycparser-2.19-py27_0 ...\n",
            "using -f (force) option\n",
            "reinstalling: pycrypto-2.6.1-py27h14c3975_9 ...\n",
            "using -f (force) option\n",
            "reinstalling: pycurl-7.43.0.2-py27h1ba5d50_0 ...\n",
            "using -f (force) option\n",
            "reinstalling: pyflakes-2.1.1-py27_0 ...\n",
            "using -f (force) option\n",
            "reinstalling: pyodbc-4.0.26-py27he6710b0_0 ...\n",
            "using -f (force) option\n",
            "reinstalling: pyparsing-2.3.1-py27_0 ...\n",
            "using -f (force) option\n",
            "reinstalling: pysocks-1.6.8-py27_0 ...\n",
            "using -f (force) option\n",
            "reinstalling: python-libarchive-c-2.8-py27_6 ...\n",
            "using -f (force) option\n",
            "reinstalling: pytz-2018.9-py27_0 ...\n",
            "using -f (force) option\n",
            "reinstalling: pyyaml-5.1-py27h7b6447c_0 ...\n",
            "using -f (force) option\n",
            "reinstalling: pyzmq-18.0.0-py27he6710b0_0 ...\n",
            "using -f (force) option\n",
            "reinstalling: qt-5.9.7-h5867ecd_1 ...\n",
            "using -f (force) option\n",
            "reinstalling: qtpy-1.7.0-py27_1 ...\n",
            "using -f (force) option\n",
            "reinstalling: rope-0.12.0-py27_0 ...\n",
            "using -f (force) option\n",
            "reinstalling: ruamel_yaml-0.15.46-py27h14c3975_0 ...\n",
            "using -f (force) option\n",
            "reinstalling: scandir-1.10.0-py27h7b6447c_0 ...\n",
            "using -f (force) option\n",
            "reinstalling: send2trash-1.5.0-py27_0 ...\n",
            "using -f (force) option\n",
            "reinstalling: simplegeneric-0.8.1-py27_2 ...\n",
            "using -f (force) option\n",
            "reinstalling: sip-4.19.8-py27hf484d3e_0 ...\n",
            "using -f (force) option\n",
            "reinstalling: six-1.12.0-py27_0 ...\n",
            "using -f (force) option\n",
            "reinstalling: snowballstemmer-1.2.1-py27h44e2768_0 ...\n",
            "using -f (force) option\n",
            "reinstalling: sortedcontainers-2.1.0-py27_0 ...\n",
            "using -f (force) option\n",
            "reinstalling: sphinxcontrib-1.0-py27_1 ...\n",
            "using -f (force) option\n",
            "reinstalling: sqlalchemy-1.3.1-py27h7b6447c_0 ...\n",
            "using -f (force) option\n",
            "reinstalling: subprocess32-3.5.3-py27h7b6447c_0 ...\n",
            "using -f (force) option\n",
            "reinstalling: tblib-1.3.2-py27h51fe5ba_0 ...\n",
            "using -f (force) option\n",
            "reinstalling: testpath-0.4.2-py27_0 ...\n",
            "using -f (force) option\n",
            "reinstalling: toolz-0.9.0-py27_0 ...\n",
            "using -f (force) option\n",
            "reinstalling: tqdm-4.31.1-py27_1 ...\n",
            "using -f (force) option\n",
            "reinstalling: typing-3.6.6-py27_0 ...\n",
            "using -f (force) option\n",
            "reinstalling: unicodecsv-0.14.1-py27h5062da9_0 ...\n",
            "using -f (force) option\n",
            "reinstalling: wcwidth-0.1.7-py27h9e3e1ab_0 ...\n",
            "using -f (force) option\n",
            "reinstalling: webencodings-0.5.1-py27_1 ...\n",
            "using -f (force) option\n",
            "reinstalling: werkzeug-0.14.1-py27_0 ...\n",
            "using -f (force) option\n",
            "reinstalling: wrapt-1.11.1-py27h7b6447c_0 ...\n",
            "using -f (force) option\n",
            "reinstalling: wurlitzer-1.0.2-py27_0 ...\n",
            "using -f (force) option\n",
            "reinstalling: xlrd-1.2.0-py27_0 ...\n",
            "using -f (force) option\n",
            "reinstalling: xlsxwriter-1.1.5-py27_0 ...\n",
            "using -f (force) option\n",
            "reinstalling: xlwt-1.3.0-py27h3d85d97_0 ...\n",
            "using -f (force) option\n",
            "reinstalling: zipp-0.3.3-py27_1 ...\n",
            "using -f (force) option\n",
            "reinstalling: babel-2.6.0-py27_0 ...\n",
            "using -f (force) option\n",
            "reinstalling: backports.os-0.1.1-py27_0 ...\n",
            "using -f (force) option\n",
            "reinstalling: backports.shutil_get_terminal_size-1.0.0-py27_2 ...\n",
            "using -f (force) option\n",
            "reinstalling: cffi-1.12.2-py27h2e261b9_1 ...\n",
            "using -f (force) option\n",
            "reinstalling: configparser-3.7.3-py27_1 ...\n",
            "using -f (force) option\n",
            "reinstalling: cycler-0.10.0-py27hc7354d3_0 ...\n",
            "using -f (force) option\n",
            "reinstalling: cytoolz-0.9.0.1-py27h14c3975_1 ...\n",
            "using -f (force) option\n",
            "reinstalling: harfbuzz-1.8.8-hffaf4a1_0 ...\n",
            "using -f (force) option\n",
            "reinstalling: html5lib-1.0.1-py27_0 ...\n",
            "using -f (force) option\n",
            "reinstalling: jedi-0.13.3-py27_0 ...\n",
            "using -f (force) option\n",
            "reinstalling: llvmlite-0.28.0-py27hd408876_0 ...\n",
            "using -f (force) option\n",
            "reinstalling: mkl_random-1.0.2-py27hd81dba3_0 ...\n",
            "using -f (force) option\n",
            "reinstalling: more-itertools-5.0.0-py27_0 ...\n",
            "using -f (force) option\n",
            "reinstalling: multipledispatch-0.6.0-py27_0 ...\n",
            "using -f (force) option\n",
            "reinstalling: nltk-3.4-py27_1 ...\n",
            "using -f (force) option\n",
            "reinstalling: openpyxl-2.6.1-py27_1 ...\n",
            "using -f (force) option\n",
            "reinstalling: packaging-19.0-py27_0 ...\n",
            "using -f (force) option\n",
            "reinstalling: partd-0.3.10-py27_1 ...\n",
            "using -f (force) option\n",
            "reinstalling: pathlib2-2.3.3-py27_0 ...\n",
            "using -f (force) option\n",
            "reinstalling: pexpect-4.6.0-py27_0 ...\n",
            "using -f (force) option\n",
            "reinstalling: pillow-5.4.1-py27h34e0f95_0 ...\n",
            "using -f (force) option\n",
            "reinstalling: pycairo-1.18.0-py27h2a1e443_0 ...\n",
            "using -f (force) option\n",
            "reinstalling: pyqt-5.9.2-py27h05f1152_2 ...\n",
            "using -f (force) option\n",
            "reinstalling: pyrsistent-0.14.11-py27h7b6447c_0 ...\n",
            "using -f (force) option\n",
            "reinstalling: python-dateutil-2.8.0-py27_0 ...\n",
            "using -f (force) option\n",
            "reinstalling: qtawesome-0.5.7-py27_1 ...\n",
            "using -f (force) option\n",
            "reinstalling: setuptools-40.8.0-py27_0 ...\n",
            "using -f (force) option\n",
            "reinstalling: singledispatch-3.4.0.3-py27h9bcb476_0 ...\n",
            "using -f (force) option\n",
            "reinstalling: sortedcollections-1.1.2-py27_0 ...\n",
            "using -f (force) option\n",
            "reinstalling: sphinxcontrib-websupport-1.1.0-py27_1 ...\n",
            "using -f (force) option\n",
            "reinstalling: ssl_match_hostname-3.7.0.1-py27_0 ...\n",
            "using -f (force) option\n",
            "reinstalling: sympy-1.3-py27_0 ...\n",
            "using -f (force) option\n",
            "reinstalling: traceback2-1.4.0-py27_0 ...\n",
            "using -f (force) option\n",
            "reinstalling: traitlets-4.3.2-py27hd6ce930_0 ...\n",
            "using -f (force) option\n",
            "reinstalling: zict-0.1.4-py27_0 ...\n",
            "using -f (force) option\n",
            "reinstalling: backports.functools_lru_cache-1.5-py27_1 ...\n",
            "using -f (force) option\n",
            "reinstalling: bleach-3.1.0-py27_0 ...\n",
            "using -f (force) option\n",
            "reinstalling: clyent-1.2.2-py27_1 ...\n",
            "using -f (force) option\n",
            "reinstalling: cryptography-2.6.1-py27h1ba5d50_0 ...\n",
            "using -f (force) option\n",
            "reinstalling: cython-0.29.6-py27he6710b0_0 ...\n",
            "using -f (force) option\n",
            "reinstalling: entrypoints-0.3-py27_0 ...\n",
            "using -f (force) option\n",
            "reinstalling: get_terminal_size-1.0.0-haa9412d_0 ...\n",
            "using -f (force) option\n",
            "reinstalling: gevent-1.4.0-py27h7b6447c_0 ...\n",
            "using -f (force) option\n",
            "reinstalling: importlib_metadata-0.8-py27_0 ...\n",
            "using -f (force) option\n",
            "reinstalling: jinja2-2.10-py27_0 ...\n",
            "using -f (force) option\n",
            "reinstalling: jsonschema-3.0.1-py27_0 ...\n",
            "using -f (force) option\n",
            "reinstalling: jupyter_core-4.4.0-py27_0 ...\n",
            "using -f (force) option\n",
            "reinstalling: navigator-updater-0.2.1-py27_0 ...\n",
            "using -f (force) option\n",
            "reinstalling: networkx-2.2-py27_1 ...\n",
            "using -f (force) option\n",
            "reinstalling: nose-1.3.7-py27_2 ...\n",
            "using -f (force) option\n",
            "reinstalling: pango-1.42.4-h049681c_0 ...\n",
            "using -f (force) option\n",
            "reinstalling: pickleshare-0.7.5-py27_0 ...\n",
            "using -f (force) option\n",
            "reinstalling: pygments-2.3.1-py27_0 ...\n",
            "using -f (force) option\n",
            "reinstalling: pytest-4.3.1-py27_0 ...\n",
            "using -f (force) option\n",
            "reinstalling: tornado-5.1.1-py27h7b6447c_0 ...\n",
            "using -f (force) option\n",
            "reinstalling: unittest2-1.1.0-py27_0 ...\n",
            "using -f (force) option\n",
            "reinstalling: wheel-0.33.1-py27_0 ...\n",
            "using -f (force) option\n",
            "reinstalling: astroid-1.6.5-py27_0 ...\n",
            "using -f (force) option\n",
            "reinstalling: conda-verify-3.1.1-py27_0 ...\n",
            "using -f (force) option\n",
            "reinstalling: distributed-1.26.0-py27_1 ...\n",
            "using -f (force) option\n",
            "reinstalling: flask-1.0.2-py27_1 ...\n",
            "using -f (force) option\n",
            "reinstalling: isort-4.3.16-py27_0 ...\n",
            "using -f (force) option\n",
            "reinstalling: jupyter_client-5.2.4-py27_0 ...\n",
            "using -f (force) option\n",
            "reinstalling: nbformat-4.4.0-py27hed7f2b2_0 ...\n",
            "using -f (force) option\n",
            "reinstalling: path.py-11.5.0-py27_0 ...\n",
            "using -f (force) option\n",
            "reinstalling: pip-19.0.3-py27_0 ...\n",
            "using -f (force) option\n",
            "reinstalling: prompt_toolkit-1.0.15-py27h1b593e1_0 ...\n",
            "using -f (force) option\n",
            "reinstalling: pyopenssl-19.0.0-py27_0 ...\n",
            "using -f (force) option\n",
            "reinstalling: soupsieve-1.8-py27_0 ...\n",
            "using -f (force) option\n",
            "reinstalling: terminado-0.8.1-py27_1 ...\n",
            "using -f (force) option\n",
            "reinstalling: beautifulsoup4-4.7.1-py27_1 ...\n",
            "using -f (force) option\n",
            "reinstalling: ipython-5.8.0-py27_0 ...\n",
            "using -f (force) option\n",
            "reinstalling: nbconvert-5.4.1-py27_3 ...\n",
            "using -f (force) option\n",
            "reinstalling: pylint-1.9.2-py27_0 ...\n",
            "using -f (force) option\n",
            "reinstalling: urllib3-1.24.1-py27_0 ...\n",
            "using -f (force) option\n",
            "reinstalling: ipykernel-4.10.0-py27_0 ...\n",
            "using -f (force) option\n",
            "reinstalling: requests-2.21.0-py27_0 ...\n",
            "using -f (force) option\n",
            "reinstalling: anaconda-client-1.7.2-py27_0 ...\n",
            "using -f (force) option\n",
            "reinstalling: conda-4.6.11-py27_0 ...\n",
            "using -f (force) option\n",
            "reinstalling: jupyter_console-5.2.0-py27_1 ...\n",
            "using -f (force) option\n",
            "reinstalling: notebook-5.7.8-py27_0 ...\n",
            "using -f (force) option\n",
            "reinstalling: qtconsole-4.4.3-py27_0 ...\n",
            "using -f (force) option\n",
            "reinstalling: sphinx-1.8.5-py27_0 ...\n",
            "using -f (force) option\n",
            "reinstalling: spyder-kernels-0.4.2-py27_0 ...\n",
            "using -f (force) option\n",
            "reinstalling: anaconda-navigator-1.9.7-py27_0 ...\n",
            "using -f (force) option\n",
            "reinstalling: anaconda-project-0.8.2-py27_0 ...\n",
            "using -f (force) option\n",
            "reinstalling: conda-build-3.17.8-py27_0 ...\n",
            "using -f (force) option\n",
            "reinstalling: jupyterlab_launcher-0.11.2-py27h28b3542_0 ...\n",
            "using -f (force) option\n",
            "reinstalling: numpydoc-0.8.0-py27_0 ...\n",
            "using -f (force) option\n",
            "reinstalling: widgetsnbextension-3.4.2-py27_0 ...\n",
            "using -f (force) option\n",
            "reinstalling: ipywidgets-7.4.2-py27_0 ...\n",
            "using -f (force) option\n",
            "reinstalling: jupyterlab-0.33.11-py27_0 ...\n",
            "using -f (force) option\n",
            "reinstalling: spyder-3.3.3-py27_0 ...\n",
            "using -f (force) option\n",
            "reinstalling: _ipyw_jlab_nb_ext_conf-0.1.0-py27_0 ...\n",
            "using -f (force) option\n",
            "reinstalling: jupyter-1.0.0-py27_7 ...\n",
            "using -f (force) option\n",
            "reinstalling: astropy-2.0.9-py27hdd07704_0 ...\n",
            "using -f (force) option\n",
            "reinstalling: bokeh-1.0.4-py27_0 ...\n",
            "using -f (force) option\n",
            "reinstalling: bottleneck-1.2.1-py27h035aef0_1 ...\n",
            "using -f (force) option\n",
            "reinstalling: h5py-2.9.0-py27h7918eee_0 ...\n",
            "using -f (force) option\n",
            "reinstalling: imageio-2.5.0-py27_0 ...\n",
            "using -f (force) option\n",
            "reinstalling: matplotlib-2.2.3-py27hb69df0a_0 ...\n",
            "using -f (force) option\n",
            "reinstalling: mkl_fft-1.0.10-py27ha843d7b_0 ...\n",
            "using -f (force) option\n",
            "reinstalling: numpy-1.16.2-py27h7e9f1db_0 ...\n",
            "using -f (force) option\n",
            "reinstalling: numba-0.43.1-py27h962f231_0 ...\n",
            "using -f (force) option\n",
            "reinstalling: numexpr-2.6.9-py27h9e4a6bb_0 ...\n",
            "using -f (force) option\n",
            "reinstalling: pandas-0.24.2-py27he6710b0_0 ...\n",
            "using -f (force) option\n",
            "reinstalling: pywavelets-1.0.2-py27hdd07704_0 ...\n",
            "using -f (force) option\n",
            "reinstalling: scipy-1.2.1-py27h7c811a0_0 ...\n",
            "using -f (force) option\n",
            "reinstalling: bkcharts-0.2-py27h241ae91_0 ...\n",
            "using -f (force) option\n",
            "reinstalling: dask-1.1.4-py27_1 ...\n",
            "using -f (force) option\n",
            "reinstalling: patsy-0.5.1-py27_0 ...\n",
            "using -f (force) option\n",
            "reinstalling: pytables-3.5.1-py27h71ec239_0 ...\n",
            "using -f (force) option\n",
            "reinstalling: scikit-image-0.14.2-py27he6710b0_0 ...\n",
            "using -f (force) option\n",
            "reinstalling: scikit-learn-0.20.3-py27hd81dba3_0 ...\n",
            "using -f (force) option\n",
            "reinstalling: statsmodels-0.9.0-py27h035aef0_0 ...\n",
            "using -f (force) option\n",
            "reinstalling: seaborn-0.9.0-py27_0 ...\n",
            "using -f (force) option\n",
            "reinstalling: anaconda-2019.03-py27_0 ...\n",
            "using -f (force) option\n",
            "using -f (force) option\n",
            "installation finished.\n",
            "WARNING:\n",
            "    You currently have a PYTHONPATH environment variable set. This may cause\n",
            "    unexpected behavior when running the Python interpreter in Anaconda2.\n",
            "    For best results, please verify that your PYTHONPATH only points to\n",
            "    directories of packages that are compatible with the Python interpreter\n",
            "    in Anaconda2: /usr/local\n"
          ],
          "name": "stdout"
        }
      ]
    },
    {
      "cell_type": "code",
      "metadata": {
        "id": "IShBBZtm8RIj",
        "colab_type": "code",
        "colab": {
          "base_uri": "https://localhost:8080/",
          "height": 1000
        },
        "outputId": "7c223a2e-73bb-40ea-813d-3c6f29eb9989"
      },
      "source": [
        "!cd malware_challenge && conda env create -f ./helper_files/linux_environment.yml"
      ],
      "execution_count": 4,
      "outputs": [
        {
          "output_type": "stream",
          "text": [
            "WARNING: The conda.compat module is deprecated and will be removed in a future release.\n",
            "WARNING: The conda.compat module is deprecated and will be removed in a future release.\n",
            "Warning: you have pip-installed dependencies in your environment file, but you do not list pip itself as one of your conda dependencies.  Conda may not use the correct pip to install your packages, and they may end up in the wrong place.  Please add an explicit pip dependency.  I'm adding one for you, but still nagging you.\n",
            "Collecting package metadata: - \b\b\\ \b\b| \b\b/ \b\b- \b\b\\ \b\b| \b\b/ \b\b- \b\b\\ \b\b| \b\b/ \b\b- \b\b\\ \b\b| \b\b/ \b\b- \b\b\\ \b\b| \b\b/ \b\b- \b\b\\ \b\b| \b\b/ \b\b- \b\b\\ \b\b| \b\b/ \b\b- \b\b\\ \b\b| \b\b/ \b\b- \b\b\\ \b\b| \b\b/ \b\b- \b\b\\ \b\b| \b\b/ \b\b- \b\b\\ \b\b| \b\b/ \b\b- \b\b\\ \b\b| \b\b/ \b\b- \b\b\\ \b\b| \b\b/ \b\b- \b\b\\ \b\b| \b\b/ \b\b- \b\b\\ \b\b| \b\b/ \b\b- \b\b\\ \b\b| \b\b/ \b\b- \b\b\\ \b\b| \b\b/ \b\b- \b\b\\ \b\b| \b\b/ \b\b- \b\b\\ \b\b| \b\b/ \b\b- \b\b\\ \b\b| \b\b/ \b\b- \b\b\\ \b\b| \b\b/ \b\b- \b\b\\ \b\b| \b\b/ \b\b- \b\b\\ \b\b| \b\b/ \b\b- \b\bdone\n",
            "Solving environment: | \b\b/ \b\b- \b\b\\ \b\b| \b\b/ \b\b- \b\b\\ \b\b| \b\b/ \b\b- \b\b\\ \b\b| \b\b/ \b\b- \b\b\\ \b\b| \b\b/ \b\b- \b\b\\ \b\b| \b\b/ \b\b- \b\b\\ \b\b| \b\b/ \b\b- \b\b\\ \b\b| \b\b/ \b\b- \b\b\\ \b\b| \b\bdone\n",
            "\n",
            "\n",
            "==> WARNING: A newer version of conda exists. <==\n",
            "  current version: 4.6.11\n",
            "  latest version: 4.8.3\n",
            "\n",
            "Please update conda by running\n",
            "\n",
            "    $ conda update -n base -c defaults conda\n",
            "\n",
            "\n",
            "\n",
            "Downloading and Extracting Packages\n",
            "mkl_random-1.1.1     | 382 KB    | : 100% 1.0/1 [00:00<00:00,  3.75it/s]           \n",
            "six-1.15.0           | 13 KB     | : 100% 1.0/1 [00:00<00:00, 15.71it/s]\n",
            "mkl_fft-1.1.0        | 159 KB    | : 100% 1.0/1 [00:00<00:00,  9.50it/s]\n",
            "python-dateutil-2.8. | 224 KB    | : 100% 1.0/1 [00:00<00:00,  9.01it/s]\n",
            "libedit-3.1.20191231 | 190 KB    | : 100% 1.0/1 [00:00<00:00,  9.87it/s]\n",
            "ca-certificates-2020 | 133 KB    | : 100% 1.0/1 [00:00<00:00,  8.77it/s]\n",
            "xz-5.2.5             | 438 KB    | : 100% 1.0/1 [00:00<00:00,  2.67it/s]           \n",
            "tk-8.6.10            | 3.2 MB    | : 100% 1.0/1 [00:02<00:00,  2.08s/it]           \n",
            "pandas-1.0.5         | 10.1 MB   | : 100% 1.0/1 [00:08<00:00,  8.01s/it]           \n",
            "certifi-2020.6.20    | 160 KB    | : 100% 1.0/1 [00:00<00:00,  9.79it/s]\n",
            "ld_impl_linux-64-2.3 | 645 KB    | : 100% 1.0/1 [00:00<00:00,  2.71it/s]           \n",
            "wheel-0.34.2         | 49 KB     | : 100% 1.0/1 [00:00<00:00,  8.50it/s]\n",
            "pytz-2020.1          | 239 KB    | : 100% 1.0/1 [00:01<00:00,  1.20s/it]           \n",
            "pip-20.1.1           | 2.0 MB    | : 100% 1.0/1 [00:02<00:00,  2.50s/it]           \n",
            "readline-8.0         | 428 KB    | : 100% 1.0/1 [00:00<00:00,  2.71it/s]           \n",
            "openssl-1.1.1g       | 3.8 MB    | : 100% 1.0/1 [00:01<00:00,  1.78s/it]           \n",
            "libgcc-ng-9.1.0      | 8.1 MB    | : 100% 1.0/1 [00:03<00:00,  3.27s/it]           \n",
            "numpy-1.18.5         | 4 KB      | : 100% 1.0/1 [00:00<00:00, 31.75it/s]\n",
            "numpy-base-1.18.5    | 5.1 MB    | : 100% 1.0/1 [00:04<00:00,  4.46s/it]           \n",
            "libffi-3.3           | 54 KB     | : 100% 1.0/1 [00:00<00:00, 15.70it/s]\n",
            "mkl-2020.1           | 200.5 MB  | : 100% 1.0/1 [01:26<00:00, 86.75s/it]            \n",
            "_libgcc_mutex-0.1    | 3 KB      | : 100% 1.0/1 [00:00<00:00, 31.53it/s]\n",
            "sqlite-3.32.3        | 2.0 MB    | : 100% 1.0/1 [00:00<00:00,  1.15it/s]           \n",
            "setuptools-47.3.1    | 647 KB    | : 100% 1.0/1 [00:00<00:00,  1.34it/s]           \n",
            "ncurses-6.2          | 1.1 MB    | : 100% 1.0/1 [00:05<00:00,  5.68s/it]           \n",
            "mkl-service-2.3.0    | 208 KB    | : 100% 1.0/1 [00:00<00:00,  9.87it/s]\n",
            "intel-openmp-2020.1  | 940 KB    | : 100% 1.0/1 [00:00<00:00,  2.11it/s]          \n",
            "libstdcxx-ng-9.1.0   | 4.0 MB    | : 100% 1.0/1 [00:01<00:00,  1.72s/it]           \n",
            "python-3.6.10        | 33.9 MB   | : 100% 1.0/1 [00:15<00:00, 15.66s/it]           \n",
            "Preparing transaction: - \b\b\\ \b\b| \b\b/ \b\b- \b\b\\ \b\b| \b\bdone\n",
            "Verifying transaction: - \b\b\\ \b\b| \b\b/ \b\b- \b\b\\ \b\b| \b\b/ \b\b- \b\b\\ \b\b| \b\b/ \b\b- \b\b\\ \b\b| \b\b/ \b\b- \b\b\\ \b\b| \b\b/ \b\b- \b\b\\ \b\b| \b\b/ \b\b- \b\bdone\n",
            "Executing transaction: | \b\b/ \b\b- \b\b\\ \b\b| \b\b/ \b\b- \b\b\\ \b\b| \b\b/ \b\b- \b\b\\ \b\b| \b\b/ \b\b- \b\b\\ \b\b| \b\b/ \b\b- \b\b\\ \b\b| \b\b/ \b\b- \b\b\\ \b\b| \b\b/ \b\b- \b\b\\ \b\b| \b\b/ \b\bdone\n",
            "Ran pip subprocess with arguments:\n",
            "[u'/usr/local/envs/nn_mal/bin/python', '-m', 'pip', 'install', '-r', '/tmp/tmptOlG5L.requirements.txt']\n",
            "Pip subprocess output:\n",
            "Collecting pybloomfiltermmap\n",
            "  Downloading pybloomfiltermmap-0.3.15.tar.gz (448 kB)\n",
            "Collecting sklearn\n",
            "  Downloading sklearn-0.0.tar.gz (1.1 kB)\n",
            "Collecting lief\n",
            "  Downloading lief-0.10.1-cp36-cp36m-manylinux1_x86_64.whl (3.5 MB)\n",
            "Collecting scipy\n",
            "  Downloading scipy-1.5.0-cp36-cp36m-manylinux1_x86_64.whl (25.9 MB)\n",
            "Collecting torch==0.3.0.post4\n",
            "  Downloading http://download.pytorch.org/whl/cu80/torch-0.3.0.post4-cp36-cp36m-linux_x86_64.whl (592.3 MB)\n",
            "Collecting torchvision\n",
            "  Downloading torchvision-0.6.1-cp36-cp36m-manylinux1_x86_64.whl (6.6 MB)\n",
            "Collecting scikit-learn\n",
            "  Downloading scikit_learn-0.23.1-cp36-cp36m-manylinux1_x86_64.whl (6.8 MB)\n",
            "Requirement already satisfied: numpy>=1.14.5 in /usr/local/envs/nn_mal/lib/python3.6/site-packages (from scipy->-r /tmp/tmptOlG5L.requirements.txt (line 4)) (1.18.5)\n",
            "Collecting pyyaml\n",
            "  Downloading PyYAML-5.3.1.tar.gz (269 kB)\n",
            "Collecting pillow>=4.1.1\n",
            "  Downloading Pillow-7.2.0-cp36-cp36m-manylinux1_x86_64.whl (2.2 MB)\n",
            "Collecting joblib>=0.11\n",
            "  Downloading joblib-0.16.0-py3-none-any.whl (300 kB)\n",
            "Collecting threadpoolctl>=2.0.0\n",
            "  Downloading threadpoolctl-2.1.0-py3-none-any.whl (12 kB)\n",
            "Building wheels for collected packages: pybloomfiltermmap, sklearn, pyyaml\n",
            "  Building wheel for pybloomfiltermmap (setup.py): started\n",
            "  Building wheel for pybloomfiltermmap (setup.py): finished with status 'done'\n",
            "  Created wheel for pybloomfiltermmap: filename=pybloomfiltermmap-0.3.15-cp36-cp36m-linux_x86_64.whl size=197715 sha256=098cab3e21e8e718523ae18e870a84a1e34fbc042d630d278571fe98a8b65347\n",
            "  Stored in directory: /root/.cache/pip/wheels/62/18/24/1df3a6583c356fe88dac8da03168e9d7404983e3d1667b7fd9\n",
            "  Building wheel for sklearn (setup.py): started\n",
            "  Building wheel for sklearn (setup.py): finished with status 'done'\n",
            "  Created wheel for sklearn: filename=sklearn-0.0-py2.py3-none-any.whl size=1315 sha256=c7e19d2b418b4cd649b05e01188e6e4483a845c9f8198437afaa6e47e2e11c01\n",
            "  Stored in directory: /root/.cache/pip/wheels/23/9d/42/5ec745cbbb17517000a53cecc49d6a865450d1f5cb16dc8a9c\n",
            "  Building wheel for pyyaml (setup.py): started\n",
            "  Building wheel for pyyaml (setup.py): finished with status 'done'\n",
            "  Created wheel for pyyaml: filename=PyYAML-5.3.1-cp36-cp36m-linux_x86_64.whl size=402219 sha256=ec58c68bec6810e8811ab59badf72ec15b598887771c9cc1a0ad92507c617f4c\n",
            "  Stored in directory: /root/.cache/pip/wheels/e5/9d/ad/2ee53cf262cba1ffd8afe1487eef788ea3f260b7e6232a80fc\n",
            "Successfully built pybloomfiltermmap sklearn pyyaml\n",
            "Installing collected packages: pybloomfiltermmap, joblib, threadpoolctl, scipy, scikit-learn, sklearn, lief, pyyaml, torch, pillow, torchvision\n",
            "Successfully installed joblib-0.16.0 lief-0.10.1 pillow-7.2.0 pybloomfiltermmap-0.3.15 pyyaml-5.3.1 scikit-learn-0.23.1 scipy-1.5.0 sklearn-0.0 threadpoolctl-2.1.0 torch-0.3.0.post4 torchvision-0.6.1\n",
            "\n",
            "#\n",
            "# To activate this environment, use:\n",
            "# > conda activate nn_mal\n",
            "#\n",
            "# To deactivate an active environment, use:\n",
            "# > conda deactivate\n",
            "#\n",
            "\n"
          ],
          "name": "stdout"
        }
      ]
    },
    {
      "cell_type": "markdown",
      "metadata": {
        "id": "ajBRNvHJ_fe3",
        "colab_type": "text"
      },
      "source": [
        "### Upload the data and unpack (e.g. data.tar.gz from the assigment)."
      ]
    },
    {
      "cell_type": "code",
      "metadata": {
        "id": "_qFMxu-p_IuQ",
        "colab_type": "code",
        "colab": {
          "base_uri": "https://localhost:8080/",
          "height": 33
        },
        "outputId": "c5327405-0a00-4403-baf1-e45194675bb9"
      },
      "source": [
        "%cd /content/"
      ],
      "execution_count": 5,
      "outputs": [
        {
          "output_type": "stream",
          "text": [
            "/content\n"
          ],
          "name": "stdout"
        }
      ]
    },
    {
      "cell_type": "code",
      "metadata": {
        "id": "ZvL7i-2u2oZS",
        "colab_type": "code",
        "colab": {}
      },
      "source": [
        "!tar xf /content/data.tar.gz"
      ],
      "execution_count": 6,
      "outputs": []
    },
    {
      "cell_type": "markdown",
      "metadata": {
        "id": "7Qjxr84m_opg",
        "colab_type": "text"
      },
      "source": [
        "Edit the parameters.ini file and point to the newly unpacked data files, then run the experiments.\n",
        "The path to malicous/benign datasets do not require \" around it."
      ]
    },
    {
      "cell_type": "markdown",
      "metadata": {
        "id": "hLmEDEcsSB1z",
        "colab_type": "text"
      },
      "source": [
        "## Run the framework.py file"
      ]
    },
    {
      "cell_type": "code",
      "metadata": {
        "id": "ErYwQdbFAAEd",
        "colab_type": "code",
        "colab": {
          "base_uri": "https://localhost:8080/",
          "height": 33
        },
        "outputId": "40b6c13e-9c36-4b40-e550-417807d9bd50"
      },
      "source": [
        "%cd /content/drive/My Drive/Colab Notebooks/"
      ],
      "execution_count": 7,
      "outputs": [
        {
          "output_type": "stream",
          "text": [
            "/content/drive/My Drive/Colab Notebooks\n"
          ],
          "name": "stdout"
        }
      ]
    },
    {
      "cell_type": "code",
      "metadata": {
        "id": "cdjsKlExkgRG",
        "colab_type": "code",
        "colab": {
          "base_uri": "https://localhost:8080/",
          "height": 217
        },
        "outputId": "e09a752f-5a2a-47dd-e0e6-899d6a8e42e3"
      },
      "source": [
        "!source activate nn_mal && cd malware_challenge && python ./framework.py"
      ],
      "execution_count": null,
      "outputs": [
        {
          "output_type": "stream",
          "text": [
            "Training Method:dfgsm_k, Evasion Method:dfgsm_k\n",
            "Starting data loading\n",
            "Creating import to index mapping\n",
            " -- import-index mapping pickle file exists, skipping this\n",
            "-- accessing file: /content/data/defend/malicious/\n",
            "-- accessing file: /content/data/defend/benign/\n",
            "Malware Files: 200\n",
            "Benign Files: 200\n",
            "Preparing training datasets\n",
            "Preparing validation datasets\n",
            "Preparing testing datasets\n",
            "Loading Model Weights From: /content/drive/My Drive/Colab Notebooks/malware_challenge/model_weights/[training:dfgsm_k|evasion:dfgsm_k]_demo_epoch_40\n"
          ],
          "name": "stdout"
        }
      ]
    },
    {
      "cell_type": "code",
      "metadata": {
        "id": "EIYn0mMphauu",
        "colab_type": "code",
        "colab": {
          "base_uri": "https://localhost:8080/",
          "height": 53
        },
        "outputId": "d98f9541-d289-4052-aa81-e47876adbf00"
      },
      "source": [
        "!source activate nn_mal && cd malware_challenge/utils/ && python ./script_functions.py"
      ],
      "execution_count": null,
      "outputs": [
        {
          "output_type": "stream",
          "text": [
            "{'bscn_num_pts': 1, 'bscn_exp_pts': 1, 'mal': {'total_loss': 1, 'total_correct': 1, 'total': 1, 'evasion': {'total_loss': 55.13054072856903, 'total_correct': 164, 'total': 200}}, 'bon': {'total_loss': 1, 'total_correct': 1, 'total': 1}}\n"
          ],
          "name": "stdout"
        }
      ]
    },
    {
      "cell_type": "code",
      "metadata": {
        "id": "2fmaFMbcuOFN",
        "colab_type": "code",
        "colab": {
          "base_uri": "https://localhost:8080/",
          "height": 33
        },
        "outputId": "feddad9f-b523-4d94-ae51-6af14bda6138"
      },
      "source": [
        "!zip test.zip malware_challenge/benign.dat"
      ],
      "execution_count": null,
      "outputs": [
        {
          "output_type": "stream",
          "text": [
            "  adding: malware_challenge/benign.dat (deflated 100%)\n"
          ],
          "name": "stdout"
        }
      ]
    },
    {
      "cell_type": "code",
      "metadata": {
        "id": "BQ4COn-zsbE6",
        "colab_type": "code",
        "colab": {
          "base_uri": "https://localhost:8080/",
          "height": 33
        },
        "outputId": "34faa5e4-d0c5-4c9c-e558-e768d3cdf733"
      },
      "source": [
        "!zip test.zip malware_challenge/malicious.dat"
      ],
      "execution_count": null,
      "outputs": [
        {
          "output_type": "stream",
          "text": [
            "  adding: malware_challenge/malicious.dat (deflated 100%)\n"
          ],
          "name": "stdout"
        }
      ]
    },
    {
      "cell_type": "code",
      "metadata": {
        "id": "KVjAlNJlGx_m",
        "colab_type": "code",
        "colab": {}
      },
      "source": [
        "# TEST\n",
        "\n",
        "'''\n",
        "1. Set attack = True, defend = False, eval = False\n",
        "2. Give path to baseline models in model weight paths\n",
        "3. Set evasion_method to our method\n",
        "4. Point to attack folders in benign_filepath and attack_filepath\n",
        "5. Run !source activate nn_mal && cd malware_challenge && python ./framework.py\n",
        "\n",
        "6. Set eval = True\n",
        "7. Run !source activate nn_mal && cd malware_challenge/utils/ && python ./script_functions.py to get F1 scores\n",
        "\n",
        "'''\n",
        "\n",
        "\n"
      ],
      "execution_count": null,
      "outputs": []
    },
    {
      "cell_type": "code",
      "metadata": {
        "id": "l52-TYPMPZrV",
        "colab_type": "code",
        "colab": {
          "base_uri": "https://localhost:8080/",
          "height": 33
        },
        "outputId": "2b7417ac-f42d-438b-ac01-70a0e97a9520"
      },
      "source": [
        "!pwd"
      ],
      "execution_count": 8,
      "outputs": [
        {
          "output_type": "stream",
          "text": [
            "/content/drive/My Drive/Colab Notebooks\n"
          ],
          "name": "stdout"
        }
      ]
    },
    {
      "cell_type": "code",
      "metadata": {
        "id": "ezRw31-MtB9W",
        "colab_type": "code",
        "colab": {}
      },
      "source": [
        "import time\n"
      ],
      "execution_count": 29,
      "outputs": []
    },
    {
      "cell_type": "code",
      "metadata": {
        "id": "GOzEiZ2Ks01q",
        "colab_type": "code",
        "colab": {
          "base_uri": "https://localhost:8080/",
          "height": 287
        },
        "outputId": "a23c2f09-e838-4e37-bf38-37e9737bdb97"
      },
      "source": [
        "# Test 1, defense = bga_k, attack = dfgsm_k\n",
        "start_time = time.time()\n",
        "!source activate nn_mal && cd malware_challenge && python ./framework.py\n",
        "print(\"--- %s seconds ---\" % (time.time() - start_time))"
      ],
      "execution_count": 32,
      "outputs": [
        {
          "output_type": "stream",
          "text": [
            "Training Method:bga_k, Evasion Method:dfgsm_k\n",
            "Starting data loading\n",
            "Creating import to index mapping\n",
            " -- import-index mapping pickle file exists, skipping this\n",
            "-- accessing file: /content/data/attack/malicious/\n",
            "-- accessing file: /content/data/defend/benign/\n",
            "-- accessing file: /content/drive/My Drive/Colab Notebooks/malware_challenge/helper_files/attack_file_list.p\n",
            "Getting malicious files from  /content/drive/My Drive/Colab Notebooks/malware_challenge/helper_files/attack_file_list.p\n",
            "Malware Files: 1500\n",
            "Benign Files: 1500\n",
            "Preparing training datasets\n",
            "Preparing validation datasets\n",
            "Preparing testing datasets\n",
            "Loading Model Weights From: /content/drive/My Drive/Colab Notebooks/malware_challenge/helper_files/[training_bga_k_evasion_bga_k]_gpu1-model.pt\n",
            "--- 134.5831756591797 seconds ---\n"
          ],
          "name": "stdout"
        }
      ]
    },
    {
      "cell_type": "code",
      "metadata": {
        "id": "R40ktButaRHK",
        "colab_type": "code",
        "colab": {
          "base_uri": "https://localhost:8080/",
          "height": 270
        },
        "outputId": "ef3f2bc2-1576-4dad-899d-29c27368d825"
      },
      "source": [
        "!source activate nn_mal && cd malware_challenge && python ./framework.py"
      ],
      "execution_count": 25,
      "outputs": [
        {
          "output_type": "stream",
          "text": [
            "Training Method:bga_k, Evasion Method:dfgsm_k\n",
            "Starting data loading\n",
            "Creating import to index mapping\n",
            " -- import-index mapping pickle file exists, skipping this\n",
            "-- accessing file: /content/data/attack/malicious/\n",
            "-- accessing file: /content/data/defend/benign/\n",
            "-- accessing file: /content/drive/My Drive/Colab Notebooks/malware_challenge/helper_files/attack_file_list.p\n",
            "Getting malicious files from  /content/drive/My Drive/Colab Notebooks/malware_challenge/helper_files/attack_file_list.p\n",
            "Malware Files: 200\n",
            "Benign Files: 200\n",
            "Preparing training datasets\n",
            "Preparing validation datasets\n",
            "Preparing testing datasets\n",
            "Loading Model Weights From: /content/drive/My Drive/Colab Notebooks/malware_challenge/helper_files/[training_bga_k_evasion_bga_k]_gpu1-model.pt\n"
          ],
          "name": "stdout"
        }
      ]
    },
    {
      "cell_type": "code",
      "metadata": {
        "id": "aQT_CB_JPdPt",
        "colab_type": "code",
        "colab": {
          "base_uri": "https://localhost:8080/",
          "height": 70
        },
        "outputId": "57746645-c231-4b2e-f04d-e04ba5f43350"
      },
      "source": [
        "!source activate nn_mal && cd malware_challenge/utils/ && python ./script_functions.py"
      ],
      "execution_count": 26,
      "outputs": [
        {
          "output_type": "stream",
          "text": [
            "{'bscn_num_pts': 1, 'bscn_exp_pts': 1, 'mal': {'total_loss': 1, 'total_correct': 1, 'total': 1, 'evasion': {'total_loss': 55.13054072856903, 'total_correct': 164, 'total': 200}}, 'bon': {'total_loss': 1, 'total_correct': 1, 'total': 1}}\n",
            "{'bscn_num_pts': 1, 'bscn_exp_pts': 1, 'mal': {'total_loss': 1, 'total_correct': 1, 'total': 1, 'evasion': {'total_loss': 138.26986861228943, 'total_correct': 163, 'total': 200}}, 'bon': {'total_loss': 1, 'total_correct': 1, 'total': 1}}\n"
          ],
          "name": "stdout"
        }
      ]
    },
    {
      "cell_type": "code",
      "metadata": {
        "id": "R9yGvjOxSvFH",
        "colab_type": "code",
        "colab": {}
      },
      "source": [
        ""
      ],
      "execution_count": null,
      "outputs": []
    }
  ]
}